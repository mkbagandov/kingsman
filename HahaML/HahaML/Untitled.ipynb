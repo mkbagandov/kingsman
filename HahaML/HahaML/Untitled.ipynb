{
 "cells": [
  {
   "cell_type": "markdown",
   "id": "3cd0a299-6b19-4ec7-822a-18463cffc590",
   "metadata": {},
   "source": [
    "# Zero-Shot Классификация одежды \n",
    "\n",
    "## 📦 Установка\n",
    "\n",
    "```bash\n",
    "# создать и активировать окружение (по желанию)\n",
    "python -m venv venv\n",
    "source venv/bin/activate   # Linux/Mac\n",
    "venv\\Scripts\\activate      # Windows\n",
    "\n",
    "# установить зависимости\n",
    "pip install transformers torch sentencepiece\n"
   ]
  },
  {
   "cell_type": "code",
   "execution_count": 3,
   "id": "e99d6575-cadf-4566-882c-009124084ee2",
   "metadata": {},
   "outputs": [
    {
     "name": "stderr",
     "output_type": "stream",
     "text": [
      "Some weights of the model checkpoint at joeddav/xlm-roberta-large-xnli were not used when initializing XLMRobertaForSequenceClassification: ['roberta.pooler.dense.bias', 'roberta.pooler.dense.weight']\n",
      "- This IS expected if you are initializing XLMRobertaForSequenceClassification from the checkpoint of a model trained on another task or with another architecture (e.g. initializing a BertForSequenceClassification model from a BertForPreTraining model).\n",
      "- This IS NOT expected if you are initializing XLMRobertaForSequenceClassification from the checkpoint of a model that you expect to be exactly identical (initializing a BertForSequenceClassification model from a BertForSequenceClassification model).\n",
      "Device set to use cpu\n"
     ]
    },
    {
     "name": "stdout",
     "output_type": "stream",
     "text": [
      "🔎 Результат классификации:\n",
      "Костюмы         — 20.75%\n",
      "Верхняя одежда  — 16.47%\n",
      "Обувь           — 11.23%\n",
      "Галстуки        — 9.27%\n",
      "Шорты           — 7.46%\n",
      "Аксессуары      — 7.02%\n",
      "Ремни           — 6.99%\n",
      "Носки           — 5.43%\n",
      "Пиджаки         — 3.11%\n",
      "Свитеры         — 3.06%\n",
      "Джинсы          — 2.52%\n",
      "Рубашки         — 2.36%\n",
      "Футболки        — 1.91%\n",
      "Брюки           — 1.41%\n",
      "Блейзеры        — 1.02%\n"
     ]
    }
   ],
   "source": [
    "from transformers import pipeline, XLMRobertaTokenizer\n",
    "\n",
    "model_name = \"joeddav/xlm-roberta-large-xnli\"\n",
    "\n",
    "# загружаем токенизатор и модель\n",
    "tokenizer = XLMRobertaTokenizer.from_pretrained(model_name)\n",
    "\n",
    "classifier = pipeline(\n",
    "    \"zero-shot-classification\",\n",
    "    model=model_name,\n",
    "    tokenizer=tokenizer\n",
    ")\n",
    "\n",
    "# твой запрос\n",
    "sequence = \"Хочу подобрать что-то для зимы\"\n",
    "\n",
    "# твои категории из БД\n",
    "candidate_labels = [\n",
    "    \"Брюки\",\n",
    "    \"Пиджаки\",\n",
    "    \"Рубашки\",\n",
    "    \"Обувь\",\n",
    "    \"Аксессуары\",\n",
    "    \"Костюмы\",\n",
    "    \"Футболки\",\n",
    "    \"Свитеры\",\n",
    "    \"Шорты\",\n",
    "    \"Верхняя одежда\",\n",
    "    \"Джинсы\",\n",
    "    \"Блейзеры\",\n",
    "    \"Галстуки\",\n",
    "    \"Ремни\",\n",
    "    \"Носки\"\n",
    "]\n",
    "\n",
    "# шаблон для NLI (чтобы модель понимала связь запроса с категорией)\n",
    "result = classifier(\n",
    "    sequence,\n",
    "    candidate_labels=candidate_labels,\n",
    "    hypothesis_template=\"Этот запрос связан с категорией {}.\"\n",
    ")\n",
    "\n",
    "# преобразуем в удобный вид с процентами\n",
    "labels_with_scores = list(zip(result[\"labels\"], result[\"scores\"]))\n",
    "labels_with_scores.sort(key=lambda x: x[1], reverse=True)  # сортировка по вероятности\n",
    "\n",
    "print(\"🔎 Результат классификации:\")\n",
    "for label, score in labels_with_scores:\n",
    "    print(f\"{label:15} — {score*100:.2f}%\")\n"
   ]
  }
 ],
 "metadata": {
  "kernelspec": {
   "display_name": "Python (clothes)",
   "language": "python",
   "name": "venv_clothes"
  },
  "language_info": {
   "codemirror_mode": {
    "name": "ipython",
    "version": 3
   },
   "file_extension": ".py",
   "mimetype": "text/x-python",
   "name": "python",
   "nbconvert_exporter": "python",
   "pygments_lexer": "ipython3",
   "version": "3.13.7"
  }
 },
 "nbformat": 4,
 "nbformat_minor": 5
}
